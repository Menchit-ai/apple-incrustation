{
 "cells": [
  {
   "cell_type": "code",
   "execution_count": 1,
   "metadata": {
    "ExecuteTime": {
     "end_time": "2021-06-30T09:17:13.054842Z",
     "start_time": "2021-06-30T09:17:12.962907Z"
    }
   },
   "outputs": [],
   "source": [
    "import os\n",
    "import cv2 as cv\n",
    "import shutil"
   ]
  },
  {
   "cell_type": "code",
   "execution_count": 2,
   "metadata": {
    "ExecuteTime": {
     "end_time": "2021-06-30T09:17:13.070791Z",
     "start_time": "2021-06-30T09:17:13.055845Z"
    }
   },
   "outputs": [],
   "source": [
    "files = [f.split('.')[0] for f in os.listdir(\"./output\")]\n",
    "jpg = [f+\".jpg\" for f in files]\n",
    "txt = [f+\".txt\" for f in files]"
   ]
  },
  {
   "cell_type": "code",
   "execution_count": 3,
   "metadata": {
    "ExecuteTime": {
     "end_time": "2021-06-30T09:17:13.085751Z",
     "start_time": "2021-06-30T09:17:13.071789Z"
    }
   },
   "outputs": [],
   "source": [
    "shutil.rmtree(\"./test/\")\n",
    "os.mkdir(\"./test/\")"
   ]
  },
  {
   "cell_type": "code",
   "execution_count": 4,
   "metadata": {
    "ExecuteTime": {
     "end_time": "2021-06-30T09:17:14.599743Z",
     "start_time": "2021-06-30T09:17:13.086749Z"
    }
   },
   "outputs": [],
   "source": [
    "for i in range(len(files)):\n",
    "    j = os.path.join(\"./output\",jpg[i])\n",
    "    t = os.path.join(\"./output\",txt[i])\n",
    "    lines = open(t,'r').read().splitlines()\n",
    "    img = cv.imread(j)\n",
    "    \n",
    "    for line in lines:\n",
    "        _,xs,xe,ys,ye = list(map(int,line.split(' ')))\n",
    "#         img = cv.rectangle(img,(0,0),(50,50),(0,255,0),3)\n",
    "        img = cv.rectangle(img,(ys,xs),(ye,xe),(0,255,0),3)\n",
    "#     print((xs,xe),(ys,ye))\n",
    "    \n",
    "    cv.imwrite(\"./test/\"+files[i]+\".jpg\",img)"
   ]
  }
 ],
 "metadata": {
  "kernelspec": {
   "display_name": "Python 3",
   "language": "python",
   "name": "python3"
  },
  "language_info": {
   "codemirror_mode": {
    "name": "ipython",
    "version": 3
   },
   "file_extension": ".py",
   "mimetype": "text/x-python",
   "name": "python",
   "nbconvert_exporter": "python",
   "pygments_lexer": "ipython3",
   "version": "3.8.5"
  },
  "toc": {
   "base_numbering": 1,
   "nav_menu": {},
   "number_sections": true,
   "sideBar": true,
   "skip_h1_title": false,
   "title_cell": "Table of Contents",
   "title_sidebar": "Contents",
   "toc_cell": false,
   "toc_position": {},
   "toc_section_display": true,
   "toc_window_display": false
  }
 },
 "nbformat": 4,
 "nbformat_minor": 4
}
